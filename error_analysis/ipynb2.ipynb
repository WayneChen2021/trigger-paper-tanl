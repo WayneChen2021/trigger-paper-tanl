{
 "cells": [
  {
   "cell_type": "code",
   "execution_count": 1,
   "metadata": {},
   "outputs": [],
   "source": [
    "import os\n",
    "import json\n",
    "from utils import error_analysis_event"
   ]
  },
  {
   "cell_type": "code",
   "execution_count": null,
   "metadata": {},
   "outputs": [],
   "source": [
    "{\n",
    "        \"experiment_dir\": \"../experiments/MUC/g2_environments/keyword/default\",\n",
    "        \"output_dir\": \"../experiments/MUC/error_analysis/keyword/default\",\n",
    "        \"hungarian_config\": \"scorer_configs/muc_config.json\",\n",
    "        \"types_mapping\": \"types_mapping/types_mapping_muc.json\",\n",
    "        \"gtt_ref_dev\": \"../data/MUC/gtt/keyword/dev.json\",\n",
    "        \"tanl_ref_dev\": \"../data/MUC/keyword/dev_event.json\",\n",
    "        \"gtt_ref_test\": \"../data/MUC/gtt/keyword/test.json\",\n",
    "        \"tanl_ref_test\": \"../data/MUC/keyword/test_event.json\",\n",
    "        \"relax_match\": true,\n",
    "        \"dataset_name\": \"muc\"\n",
    "    }"
   ]
  },
  {
   "cell_type": "code",
   "execution_count": 2,
   "metadata": {},
   "outputs": [],
   "source": [
    "best_epochs = {\n",
    "    'keyword': {\n",
    "        'default': 26,\n",
    "        'single_pass': 93,\n",
    "        'args_only': 31\n",
    "    },\n",
    "    'llm': {\n",
    "        'default': 5,\n",
    "        'single_pass': 114,\n",
    "        'args_only': 93\n",
    "    },\n",
    "    'human': {\n",
    "        'default': 4,\n",
    "        'single_pass': 111,\n",
    "        'args_only': 32\n",
    "    },\n",
    "    'no_trig': {\n",
    "        'no_trig': 93\n",
    "    }\n",
    "}\n",
    "roles = [\"PerpInd\", \"PerpOrg\", \"Target\", \"Victim\", \"Weapon\"]"
   ]
  },
  {
   "cell_type": "code",
   "execution_count": 4,
   "metadata": {},
   "outputs": [],
   "source": [
    "def create_directories_for_file(file_path):\n",
    "    directory_path = os.path.dirname(file_path)\n",
    "    folders = directory_path.split(os.sep)\n",
    "    path_to_create = \"\"\n",
    "    for folder in folders:\n",
    "        path_to_create = os.path.join(path_to_create, folder)\n",
    "        if not os.path.exists(path_to_create):\n",
    "            os.makedirs(path_to_create)\n",
    "\n",
    "for split_style in os.listdir('../bucketed/MUC'):\n",
    "    # for trigger_source in ['keyword', 'human', 'llm']:\n",
    "    #     for experiment in ['default', 'single_pass', 'args_only']:\n",
    "    for trigger_source in ['no_trig']:\n",
    "        for experiment in ['no_trig']:\n",
    "            best_epoch = best_epochs[trigger_source][experiment]\n",
    "            model_out = f'../experiments/MUC/g2_environments/{trigger_source}/{experiment}/test_predictions/{best_epoch}.0.txt'\n",
    "            tanl_ref = f'../data/MUC/{trigger_source}/test_event.json'\n",
    "            # gtt_ref = f'../data/MUC/gtt/{trigger_source}/test.json'\n",
    "            gtt_ref = f'../data/MUC/gtt/keyword/test.json'\n",
    "\n",
    "            with open(f'../bucketed/MUC/{split_style}/test.json', 'r') as f:\n",
    "                splits = json.loads(f.read())\n",
    "            \n",
    "            for split_range, selections in splits.items():\n",
    "                out_path = f'../ablations/MUC/{split_style}/{split_range}/{trigger_source}/{experiment}.json'\n",
    "                with open('temp2.json', 'w') as f:\n",
    "                    f.write(json.dumps(selections))\n",
    "                create_directories_for_file(out_path)\n",
    "                error_analysis_event(\n",
    "                    model_out,\n",
    "                    tanl_ref,\n",
    "                    gtt_ref,\n",
    "                    \"hungarian_scorer.py\",\n",
    "                    \"types_mapping/types_mapping_muc.json\",\n",
    "                    out_path,\n",
    "                    roles,\n",
    "                    \"scorer_configs/muc_config.json\",\n",
    "                    True,\n",
    "                    'temp2.json'\n",
    "                )"
   ]
  }
 ],
 "metadata": {
  "kernelspec": {
   "display_name": "Python 3",
   "language": "python",
   "name": "python3"
  },
  "language_info": {
   "codemirror_mode": {
    "name": "ipython",
    "version": 3
   },
   "file_extension": ".py",
   "mimetype": "text/x-python",
   "name": "python",
   "nbconvert_exporter": "python",
   "pygments_lexer": "ipython3",
   "version": "3.10.12"
  }
 },
 "nbformat": 4,
 "nbformat_minor": 2
}
